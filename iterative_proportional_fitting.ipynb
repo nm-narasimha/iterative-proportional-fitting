{
 "cells": [
  {
   "cell_type": "markdown",
   "metadata": {},
   "source": [
    "# Iterative proportional Fitting (aka ranking) algorithm \n"
   ]
  },
  {
   "cell_type": "code",
   "execution_count": null,
   "metadata": {},
   "outputs": [],
   "source": []
  },
  {
   "cell_type": "markdown",
   "metadata": {},
   "source": [
    "## Often with a design of experiments, the effect of a treatment (vs control) could be measured using randomised control trails. However, it might not always be feasible to divide traffic/users/devices/entities in this manner.  \n",
    "\n",
    "\n",
    "* The outcome/target/metric could be driven by treatment vs control differences. Besides this, there could be other dimensions which could affect the outcome - exogenous effect variables\n",
    "\n",
    "\n",
    "* In some cases there might be \"endogenous / confounder variables\". \n",
    "\n",
    "\n",
    "* In such instances, one coule follow a few matching/propensity-scoring techniques such that, the effect of treatment vs difference can be measured, \" after accounting for the exogenous effect and endogenous confounder variables/dimensions.\n",
    "\n",
    "\n",
    "* For many linear problems, the econometric modeling methods such as ANOVA/ANCOVA can be used [linear models] . Or more advancements in recent decade, such as counter factual techniques, conditional average treatment effect (CATE) methods could be applied. \n",
    "\n",
    "\n",
    "* In your armour of techniques, add iterative proportional fitting method too. \n",
    "\n",
    "\n",
    "\n",
    "\n",
    "\n",
    "**KEY POINTS **\n",
    "- It is simple, efficient, can be used to match unconventional distributions. \n",
    "- It can be used to match non-parameteric, discretised distributions of features in the sample. \n",
    "- You may not know the joint distribution of the features. You can try IPF to match \"marginal distributions\". \n",
    "- \n",
    "- Note that there might not be a \"feasible set\" of weights in some scenarios. \n",
    "    - For example, assume there are two dimensions which are negatively correlated (~very high). \n",
    "    - But user provides target distributions for dimension 1 and 2 such that they seem to be highly +vely correlated.\n",
    "    - A \"feasible set\" of weights might not exist. Or the weights could be highly skewed, that a few rows in the data have very large weight and most of the rows have very small (close to zero) weight. \n",
    "    - So chose targets wisely. \n",
    "\n",
    "\n",
    "**Below notebook does following:**\n",
    "\n",
    "* Creates targets\n",
    "* Creates dummy sample\n",
    "\n",
    "* IPF class\n",
    "   - train weights \n",
    "   - compute standardized mean difference between target and simulated sample distributions [raw distributions]\n"
   ]
  },
  {
   "cell_type": "code",
   "execution_count": null,
   "metadata": {},
   "outputs": [],
   "source": []
  },
  {
   "cell_type": "code",
   "execution_count": 1,
   "metadata": {},
   "outputs": [
    {
     "data": {
      "text/html": [
       "<style>.container { width:100% !important; }</style>"
      ],
      "text/plain": [
       "<IPython.core.display.HTML object>"
      ]
     },
     "metadata": {},
     "output_type": "display_data"
    }
   ],
   "source": [
    "from IPython.core.display import display, HTML\n",
    "display(HTML(\"<style>.container { width:100% !important; }</style>\"))"
   ]
  },
  {
   "cell_type": "code",
   "execution_count": 2,
   "metadata": {},
   "outputs": [],
   "source": [
    "import io, os, sys, datetime, math, random, boto3, pickle\n",
    "import numpy as np\n",
    "import matplotlib.pyplot as plt\n",
    "import pandas as pd\n",
    "import seaborn as sns\n",
    "from matplotlib import ticker\n",
    "#import tqdm.tqdm_pandas as tqdm_pandas\n",
    "from tqdm.auto import tqdm\n",
    "import copy"
   ]
  },
  {
   "cell_type": "code",
   "execution_count": 3,
   "metadata": {},
   "outputs": [],
   "source": [
    "pd.options.display.float_format = \"{:,.2f}\".format\n",
    "pd.set_option('display.max_columns',None)\n",
    "pd.set_option('display.max_rows',200)\n",
    "pd.set_option('display.width',500)"
   ]
  },
  {
   "cell_type": "code",
   "execution_count": 4,
   "metadata": {},
   "outputs": [
    {
     "name": "stderr",
     "output_type": "stream",
     "text": [
      "/home/ec2-user/SageMaker/ds_sagemaker_utils/miniconda/envs/DS_py37/lib/python3.7/site-packages/tqdm/std.py:658: FutureWarning: The Panel class is removed from pandas. Accessing it from the top-level namespace will also be removed in the next version\n",
      "  from pandas import Panel\n"
     ]
    }
   ],
   "source": [
    "sns.set()\n",
    "tqdm.pandas()"
   ]
  },
  {
   "cell_type": "code",
   "execution_count": null,
   "metadata": {},
   "outputs": [],
   "source": []
  },
  {
   "cell_type": "markdown",
   "metadata": {},
   "source": [
    "## create simulated targets "
   ]
  },
  {
   "cell_type": "code",
   "execution_count": 5,
   "metadata": {},
   "outputs": [],
   "source": [
    "dlen = 1000\n",
    "t_x1 = np.random.uniform(low= 0, high = 10,size=dlen)\n",
    "t_x2 = np.random.choice([0,1],size=dlen,p=[0.25, 0.75])\n",
    "t_x3x4_mean = [2, 3]\n",
    "t_x3x4_cov  = [[8, 3],[3, 4]]\n",
    "t_x3x4      = np.random.multivariate_normal(mean=t_x3x4_mean, cov=t_x3x4_cov, size=dlen, check_valid='warn', tol=1e-8)\n",
    "t_x3        = t_x3x4[:,0]\n",
    "t_x4        = t_x3x4[:,1]\n",
    "\n",
    "t_rvars = [t_x1 , t_x2, t_x3, t_x4]\n",
    "t_bvars = [] \n",
    "t_bvars.append(np.round(t_x1,0).astype(np.int32))\n",
    "t_bvars.append(np.round(t_x2,0).astype(np.int32))\n",
    "\n",
    "target_bins = [np.array(0), np.array(0)] \n",
    "target_bins.append(np.quantile(t_x3, np.linspace(0.1,0.9,9)))\n",
    "target_bins.append(np.quantile(t_x4, np.linspace(0.1,0.9,9)))\n",
    "t_bvars.append(np.digitize(t_x3 ,target_bins[2],right=True))\n",
    "t_bvars.append(np.digitize(t_x4 ,target_bins[3],right=True))\n",
    "\n",
    "t_bdist = []\n",
    "for i, v in enumerate(t_bvars):\n",
    "    _i1, _i2 = np.unique(v, return_counts=True)\n",
    "    _dict = {}\n",
    "    for k, v in zip(_i1, _i2):\n",
    "        _dict[k] = v\n",
    "    t_bdist.append(_dict)"
   ]
  },
  {
   "cell_type": "code",
   "execution_count": 6,
   "metadata": {},
   "outputs": [
    {
     "name": "stdout",
     "output_type": "stream",
     "text": [
      "i is 0 , v is {0: 49, 1: 103, 2: 100, 3: 99, 4: 96, 5: 106, 6: 102, 7: 109, 8: 97, 9: 86, 10: 53} \n",
      "i is 1 , v is {0: 253, 1: 747} \n",
      "i is 2 , v is {0: 100, 1: 100, 2: 100, 3: 100, 4: 100, 5: 100, 6: 100, 7: 100, 8: 100, 9: 100} \n",
      "i is 3 , v is {0: 100, 1: 100, 2: 100, 3: 100, 4: 100, 5: 100, 6: 100, 7: 100, 8: 100, 9: 100} \n"
     ]
    },
    {
     "data": {
      "image/png": "[encoded data removed]",
      "text/plain": [
       "<Figure size 1080x720 with 4 Axes>"
      ]
     },
     "metadata": {},
     "output_type": "display_data"
    }
   ],
   "source": [
    "fig, ax = plt.subplots(2,2,figsize=(15,10),tight_layout=True)\n",
    "cl = ['r','b','g','b']\n",
    "\n",
    "for i, v in enumerate(t_bdist):\n",
    "     print(f\"i is {i} , v is {v} \")\n",
    "     ax[int(i/2), i%2].bar(np.fromiter(v.keys()  , dtype=np.int32), \n",
    "                           np.fromiter(v.values(), dtype=np.int32), color=cl[i])"
   ]
  },
  {
   "cell_type": "code",
   "execution_count": 7,
   "metadata": {},
   "outputs": [],
   "source": [
    "t_bdist_pct = []\n",
    "for i, var in enumerate(t_bdist):\n",
    "    _dd = {}\n",
    "    for k, val in var.items():\n",
    "         _dd[k] = val/sum(var.values())\n",
    "    t_bdist_pct.append(_dd)"
   ]
  },
  {
   "cell_type": "code",
   "execution_count": null,
   "metadata": {},
   "outputs": [],
   "source": []
  },
  {
   "cell_type": "markdown",
   "metadata": {},
   "source": [
    "## simulated data"
   ]
  },
  {
   "cell_type": "code",
   "execution_count": 8,
   "metadata": {},
   "outputs": [],
   "source": [
    "dlen = 1000\n",
    "x1 = np.random.uniform(low= 0, high = 10,size=dlen)\n",
    "x2 = np.random.uniform(low= 0, high = 1 ,size=dlen)\n",
    "x3x4_mean = [0.5, 5]\n",
    "x3x4_cov  = [[10, 5],[5, 8]]\n",
    "x3x4      = np.random.multivariate_normal(mean=x3x4_mean, cov=x3x4_cov, size=dlen, check_valid='warn', tol=1e-8)\n",
    "x3        = x3x4[:,0]\n",
    "x4        = x3x4[:,1]\n"
   ]
  },
  {
   "cell_type": "code",
   "execution_count": 9,
   "metadata": {},
   "outputs": [],
   "source": [
    "rvars = [x1  , x2 , x3, x4]\n",
    "bvars = [] \n",
    "bvars.append(np.round(x1,0).astype(np.int32))\n",
    "bvars.append(np.round(x2,0).astype(np.int32))\n",
    "bvars.append(np.digitize(x3 ,target_bins[2],right=True))\n",
    "bvars.append(np.digitize(x4 ,target_bins[3],right=True))\n",
    "\n",
    "bdist = []\n",
    "for i, v in enumerate(bvars):\n",
    "    _i1, _i2 = np.unique(v, return_counts=True)\n",
    "    _dict = {}\n",
    "    for k, v in zip(_i1, _i2):\n",
    "        _dict[k] = v\n",
    "    bdist.append(_dict)"
   ]
  },
  {
   "cell_type": "code",
   "execution_count": 10,
   "metadata": {},
   "outputs": [
    {
     "name": "stdout",
     "output_type": "stream",
     "text": [
      "i is 0 , v is {0: 44, 1: 90, 2: 101, 3: 97, 4: 87, 5: 105, 6: 115, 7: 105, 8: 110, 9: 96, 10: 50} \n",
      "i is 1 , v is {0: 519, 1: 481} \n",
      "i is 2 , v is {0: 241, 1: 145, 2: 110, 3: 80, 4: 87, 5: 82, 6: 80, 7: 67, 8: 63, 9: 45} \n",
      "i is 3 , v is {0: 59, 1: 37, 2: 44, 3: 37, 4: 47, 5: 46, 6: 62, 7: 84, 8: 131, 9: 453} \n"
     ]
    },
    {
     "data": {
      "image/png": "[encoded data removed]",
      "text/plain": [
       "<Figure size 1080x720 with 4 Axes>"
      ]
     },
     "metadata": {},
     "output_type": "display_data"
    }
   ],
   "source": [
    "fig, ax = plt.subplots(2,2,figsize=(15,10),tight_layout=True)\n",
    "cl = ['r','b','g','b']\n",
    "for i, v in enumerate(bdist):\n",
    "     print(f\"i is {i} , v is {v} \")\n",
    "     #sns.barplot(x=v.keys(), y=v.values(), ax=ax[int(i/2), i%2])\n",
    "     ax[int(i/2), i%2].bar(np.fromiter(v.keys()  , dtype=np.int32), \n",
    "                           np.fromiter(v.values(), dtype=np.int32), color=cl[i])"
   ]
  },
  {
   "cell_type": "code",
   "execution_count": null,
   "metadata": {},
   "outputs": [],
   "source": []
  },
  {
   "cell_type": "markdown",
   "metadata": {},
   "source": [
    "# Iterative proportional fitting class "
   ]
  },
  {
   "cell_type": "code",
   "execution_count": 29,
   "metadata": {},
   "outputs": [],
   "source": [
    "class ipf_class():\n",
    "    def __init__(self, max_iterations, min_gap_threshold, raw_varcols=None, raw_targetcols=None, \n",
    "                         binned_vars, target_binnedvar_dist, vnames):\n",
    "         self.max_iterations    = max_iterations\n",
    "         self.min_gap_threshold = min_gap_threshold\n",
    "         self.bvars             = binned_vars \n",
    "         self.t_bdist_pct       = target_binnedvar_dist    \n",
    "         self.raw_varcols       = raw_varcols\n",
    "         self.raw_targetcols    = raw_targetcols\n",
    "         self.actual_gap_t_vs_a = 99999\n",
    "         self.iternum           = 0\n",
    "         self.NUM_DIMS          = len(self.bvars)\n",
    "         self.weights           = np.ones(len(self.bvars[0])) \n",
    "         self.actual_dist       = []\n",
    "         self.wtd_dist          = []\n",
    "         self.vnames            = vnames\n",
    "\n",
    "    def vectorize_wt_multiliers(self, ar, ddic):\n",
    "        _k = np.array(list(ddic.keys()))\n",
    "        _v = np.array(list(ddic.values()))\n",
    "\n",
    "        sx = _k.argsort()\n",
    "        _k = _k[sx]\n",
    "        _v = _v[sx]\n",
    "        return _v[np.searchsorted(_k,ar)]\n",
    "\n",
    "    def wtd_count_compute(self, ar, wts):\n",
    "        wtd_dist = {}\n",
    "        for i in np.unique(ar):\n",
    "            wtd_dist[i] = np.where((ar==i),wts, wts*0).sum()/wts.sum()\n",
    "        return wtd_dist\n",
    "\n",
    "    def compute_deviation(self, t, a):\n",
    "        assert len(t) == len(a), \"Length of distribution lists should be identical\"\n",
    "        sum_gap = 0\n",
    "        for i, a_dict in enumerate(a):\n",
    "            t_dict = t[i]\n",
    "            assert len(a_dict.keys()) == len(t_dict.keys()), \"For every value in variable there should be a target and  every value in target dist should be in the dataset \"\n",
    "            sum_gap += sum([(t_dict.get(k, 0)- v)**2 for k, v in a_dict.items() ])\n",
    "        return sum_gap\n",
    "\n",
    "    def train(self):\n",
    "        self.iternum           = 0\n",
    "        self.actual_gap_t_vs_a = 99999\n",
    "        while ((self.actual_gap_t_vs_a >self.min_gap_threshold) & (self.iternum<self.max_iterations)):\n",
    "            for vid in range(self.NUM_DIMS):\n",
    "                __dnew = self.wtd_count_compute(ar=self.bvars[vid], wts=self.weights)\n",
    "                mult_map = {}\n",
    "                for k,v in self.t_bdist_pct[vid].items():\n",
    "                     mult_map[k] = max(v,0.001)/__dnew.get(k,0.001)\n",
    "\n",
    "                self.weights = np.multiply(self.weights.astype(np.float), self.vectorize_wt_multiliers(self.bvars[vid], mult_map).astype(np.float))\n",
    "\n",
    "            self.actual_dist_old = copy.deepcopy(self.actual_dist)\n",
    "            self.actual_dist     = []\n",
    "            for vid in range(self.NUM_DIMS):\n",
    "                self.actual_dist.append(self.wtd_count_compute(ar=self.bvars[vid], wts=self.weights))\n",
    "\n",
    "            #print(f\"{len(t_bdist_pct)} , {len()})\n",
    "            self.actual_gap_t_vs_a = self.compute_deviation(self.t_bdist_pct, self.actual_dist)\n",
    "            print(f\"Iternum - {self.iternum} , actual_gap_t_vs_a - {round(self.actual_gap_t_vs_a,4)} \")\n",
    "            self.iternum +=1\n",
    "        self.compute_wtd_dist()\n",
    "        self.compute_smd()\n",
    "\n",
    "    def compute_wtd_dist(self):\n",
    "        self.wtd_dist = []\n",
    "        for vid in range(self.NUM_DIMS):\n",
    "            self.wtd_dist.append(self.wtd_count_compute(ar=self.bvars[vid], wts=self.weights))\n",
    "\n",
    "    def smd(self, a, wts, t):\n",
    "        avg1 = np.average(a, weights=wts)\n",
    "        var1 = np.average((a-avg1)**2, weights=wts)\n",
    "        avg2 = np.average(t)\n",
    "        var2 = np.average((t-avg2)**2)\n",
    "        return (avg1 - avg2) / np.sqrt(var1+var2)\n",
    "\n",
    "    def compute_smd(self):\n",
    "        if self.raw_varcols !=None:\n",
    "            stats = []\n",
    "            for i, v in enumerate(self.raw_varcols):\n",
    "                stats.append([i, self.vnames[i], self.smd(v, self.weights, self.raw_targetcols[i])])\n",
    "            self.smd_statsdf = pd.DataFrame(stats, columns=['idx','varname','SMD'])\n",
    "        else:\n",
    "            print('pass original variables [undiscretised] from sample and target datasets ')\n",
    "    "
   ]
  },
  {
   "cell_type": "markdown",
   "metadata": {},
   "source": [
    "## Raking/IPF  - initialize & train"
   ]
  },
  {
   "cell_type": "code",
   "execution_count": 30,
   "metadata": {},
   "outputs": [],
   "source": [
    "ipfobj = ipf_class(max_iterations        = 200, \n",
    "                   min_gap_threshold     = 0.001, \n",
    "                   raw_varcols           = rvars, \n",
    "                   raw_targetcols        = t_rvars, \n",
    "                   binned_vars           = bvars, \n",
    "                   target_binnedvar_dist = t_bdist_pct,\n",
    "                   vnames                = 'x1 x2 x3 x4'.split())\n"
   ]
  },
  {
   "cell_type": "code",
   "execution_count": 31,
   "metadata": {},
   "outputs": [
    {
     "name": "stdout",
     "output_type": "stream",
     "text": [
      "Iternum - 0 , actual_gap_t_vs_a - 0.0259 \n",
      "Iternum - 1 , actual_gap_t_vs_a - 0.0029 \n",
      "Iternum - 2 , actual_gap_t_vs_a - 0.0004 \n"
     ]
    }
   ],
   "source": [
    "ipfobj.train()"
   ]
  },
  {
   "cell_type": "markdown",
   "metadata": {},
   "source": [
    "## Compare wtd distributions "
   ]
  },
  {
   "cell_type": "code",
   "execution_count": null,
   "metadata": {},
   "outputs": [],
   "source": []
  },
  {
   "cell_type": "code",
   "execution_count": 32,
   "metadata": {},
   "outputs": [
    {
     "name": "stdout",
     "output_type": "stream",
     "text": [
      "i is 0 , v is {0: 0.04796874542371157, 1: 0.09809805974234412, 2: 0.09403309415766398, 3: 0.09458658456288624, 4: 0.10659908065052566, 5: 0.10921268633492334, 6: 0.10306494578425564, 7: 0.10475441534628485, 8: 0.09618005403747884, 9: 0.08928438061988993, 10: 0.056217953340035876} \n",
      "i is 1 , v is {0: 0.2575473364531445, 1: 0.7424526635468555} \n",
      "i is 2 , v is {0: 0.10627728090623606, 1: 0.10417059590387565, 2: 0.10269067243810767, 3: 0.10438541870752599, 4: 0.09991408092128498, 5: 0.09912869985046768, 6: 0.09677373893037901, 7: 0.095112004841242, 8: 0.0965870768488519, 9: 0.09496043065202901} \n",
      "i is 3 , v is {0: 0.1, 1: 0.1, 2: 0.1, 3: 0.09999999999999998, 4: 0.1, 5: 0.10000000000000002, 6: 0.1, 7: 0.09999999999999999, 8: 0.1, 9: 0.1} \n"
     ]
    },
    {
     "data": {
      "image/png": "[encoded data removed]",
      "text/plain": [
       "<Figure size 1080x720 with 4 Axes>"
      ]
     },
     "metadata": {},
     "output_type": "display_data"
    }
   ],
   "source": [
    "fig, ax = plt.subplots(2,2,figsize=(15,10),tight_layout=True)\n",
    "cl = ['r','b','g','b']\n",
    "for i, v in enumerate(ipfobj.wtd_dist):\n",
    "     print(f\"i is {i} , v is {v} \")\n",
    "     #sns.barplot(x=v.keys(), y=v.values(), ax=ax[int(i/2), i%2])\n",
    "     ax[int(i/2), i%2].bar(np.fromiter(v.keys()  , dtype=np.int32), \n",
    "                           np.fromiter(v.values(), dtype=np.float), color=cl[i])"
   ]
  },
  {
   "cell_type": "code",
   "execution_count": null,
   "metadata": {},
   "outputs": [],
   "source": []
  },
  {
   "cell_type": "markdown",
   "metadata": {},
   "source": [
    "# Compute standardized mean difference between sample and target data distribution [raw features] "
   ]
  },
  {
   "cell_type": "code",
   "execution_count": null,
   "metadata": {},
   "outputs": [],
   "source": [
    "ipfobj.compute_smd()"
   ]
  },
  {
   "cell_type": "code",
   "execution_count": 33,
   "metadata": {},
   "outputs": [
    {
     "data": {
      "text/html": [
       "<div>\n",
       "<style scoped>\n",
       "    .dataframe tbody tr th:only-of-type {\n",
       "        vertical-align: middle;\n",
       "    }\n",
       "\n",
       "    .dataframe tbody tr th {\n",
       "        vertical-align: top;\n",
       "    }\n",
       "\n",
       "    .dataframe thead th {\n",
       "        text-align: right;\n",
       "    }\n",
       "</style>\n",
       "<table border=\"1\" class=\"dataframe\">\n",
       "  <thead>\n",
       "    <tr style=\"text-align: right;\">\n",
       "      <th></th>\n",
       "      <th>idx</th>\n",
       "      <th>varname</th>\n",
       "      <th>SMD</th>\n",
       "    </tr>\n",
       "  </thead>\n",
       "  <tbody>\n",
       "    <tr>\n",
       "      <th>0</th>\n",
       "      <td>0</td>\n",
       "      <td>x1</td>\n",
       "      <td>0.01</td>\n",
       "    </tr>\n",
       "    <tr>\n",
       "      <th>1</th>\n",
       "      <td>1</td>\n",
       "      <td>x2</td>\n",
       "      <td>-0.23</td>\n",
       "    </tr>\n",
       "    <tr>\n",
       "      <th>2</th>\n",
       "      <td>2</td>\n",
       "      <td>x3</td>\n",
       "      <td>-0.07</td>\n",
       "    </tr>\n",
       "    <tr>\n",
       "      <th>3</th>\n",
       "      <td>3</td>\n",
       "      <td>x4</td>\n",
       "      <td>0.05</td>\n",
       "    </tr>\n",
       "  </tbody>\n",
       "</table>\n",
       "</div>"
      ],
      "text/plain": [
       "   idx varname   SMD\n",
       "0    0      x1  0.01\n",
       "1    1      x2 -0.23\n",
       "2    2      x3 -0.07\n",
       "3    3      x4  0.05"
      ]
     },
     "execution_count": 33,
     "metadata": {},
     "output_type": "execute_result"
    }
   ],
   "source": [
    "ipfobj.smd_statsdf"
   ]
  },
  {
   "cell_type": "code",
   "execution_count": null,
   "metadata": {},
   "outputs": [],
   "source": []
  },
  {
   "cell_type": "code",
   "execution_count": null,
   "metadata": {},
   "outputs": [],
   "source": []
  },
  {
   "cell_type": "code",
   "execution_count": null,
   "metadata": {},
   "outputs": [],
   "source": []
  },
  {
   "cell_type": "code",
   "execution_count": null,
   "metadata": {},
   "outputs": [],
   "source": []
  },
  {
   "cell_type": "code",
   "execution_count": null,
   "metadata": {},
   "outputs": [],
   "source": []
  },
  {
   "cell_type": "code",
   "execution_count": null,
   "metadata": {},
   "outputs": [],
   "source": []
  },
  {
   "cell_type": "code",
   "execution_count": null,
   "metadata": {},
   "outputs": [],
   "source": []
  },
  {
   "cell_type": "code",
   "execution_count": null,
   "metadata": {},
   "outputs": [],
   "source": []
  }
 ],
 "metadata": {
  "kernelspec": {
   "display_name": "Custom (DS_py37)",
   "language": "python",
   "name": "ds_py37"
  },
  "language_info": {
   "codemirror_mode": {
    "name": "ipython",
    "version": 3
   },
   "file_extension": ".py",
   "mimetype": "text/x-python",
   "name": "python",
   "nbconvert_exporter": "python",
   "pygments_lexer": "ipython3",
   "version": "3.7.10"
  },
  "toc": {
   "nav_menu": {},
   "number_sections": true,
   "sideBar": true,
   "skip_h1_title": false,
   "title_cell": "Table of Contents",
   "title_sidebar": "Contents",
   "toc_cell": false,
   "toc_position": {},
   "toc_section_display": true,
   "toc_window_display": false
  }
 },
 "nbformat": 4,
 "nbformat_minor": 5
}
